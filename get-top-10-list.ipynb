{
 "cells": [
  {
   "cell_type": "code",
   "execution_count": 1,
   "id": "48a49bef",
   "metadata": {},
   "outputs": [],
   "source": [
    "from selenium import webdriver\n",
    "from selenium.webdriver.common.by import By\n",
    "from selenium.webdriver.chrome.options import Options\n"
   ]
  },
  {
   "cell_type": "code",
   "execution_count": 2,
   "id": "324ccd15",
   "metadata": {},
   "outputs": [],
   "source": [
    "def set_chrome_options() -> None:\n",
    "    \"\"\"Sets chrome options for Selenium.\n",
    "    Chrome options for headless browser is enabled.\n",
    "    \"\"\"\n",
    "    chrome_options = Options()\n",
    "    chrome_options.add_argument(\"--headless\")\n",
    "    chrome_options.add_argument(\"--no-sandbox\")\n",
    "    chrome_options.add_argument(\"--disable-dev-shm-usage\")\n",
    "    chrome_prefs = {}\n",
    "    chrome_options.experimental_options[\"prefs\"] = chrome_prefs\n",
    "    chrome_prefs[\"profile.default_content_settings\"] = {\"images\": 2}\n",
    "    return chrome_options\n"
   ]
  },
  {
   "cell_type": "code",
   "execution_count": 3,
   "id": "b00a57ef",
   "metadata": {},
   "outputs": [],
   "source": [
    "chrome_options = set_chrome_options()\n",
    "driver = webdriver.Chrome(options=chrome_options)\n"
   ]
  },
  {
   "cell_type": "code",
   "execution_count": 5,
   "id": "a52818c1",
   "metadata": {},
   "outputs": [],
   "source": [
    "url = 'https://www.basketball-reference.com/leaders/g_career.html'\n",
    "driver.get(url)\n"
   ]
  },
  {
   "cell_type": "code",
   "execution_count": 6,
   "id": "36638b41",
   "metadata": {},
   "outputs": [
    {
     "data": {
      "text/plain": [
       "\"NBA/ABA\\nShare & Export\\nRank Player G\\n1. Robert Parish* 1611\\n2. Kareem Abdul-Jabbar* 1560\\n3. Vince Carter 1541\\n4. Dirk Nowitzki 1522\\n5. John Stockton* 1504\\n6. Karl Malone* 1476\\n7. Kevin Garnett* 1462\\n8. Moses Malone* 1455\\n9. Kevin Willis 1424\\n10. Jason Terry 1410\\n11. Tim Duncan* 1392\\n12. Jason Kidd* 1391\\n13. Reggie Miller* 1389\\n14. Clifford Robinson 1380\\n15. Kobe Bryant* 1346\\n16. Paul Pierce* 1343\\n17. Gary Payton* 1335\\n18. LeBron James 1331\\n19. Artis Gilmore* 1329\\n20. Jamal Crawford 1327\\nRank Player G\\n21. Buck Williams 1307\\n22. Andre Miller 1304\\n23. Elvin Hayes* 1303\\n24. Ray Allen* 1300\\n25. Caldwell Jones 1299\\n26. Mark Jackson 1296\\n27. Derek Fisher 1287\\n28. Sam Perkins 1286\\n29. Charles Oakley 1282\\n30. A.C. Green 1278\\n31. Joe Johnson 1277\\n32. Terry Porter 1274\\n33. John Havlicek* 1270\\n34. Otis Thorpe 1257\\n35. Tony Parker 1254\\n  Paul Silas 1254\\n37. Julius Erving* 1243\\n38. Hakeem Olajuwon* 1238\\n39. Kyle Korver 1232\\n40. Pau Gasol 1226\\nRank Player G\\n41. Carmelo Anthony 1224\\n42. Dan Issel* 1218\\n43. Steve Nash* 1217\\n44. Dale Ellis 1209\\n45. Dwight Howard 1208\\n  Andre Iguodala 1208\\n  Juwan Howard 1208\\n48. Shaquille O'Neal* 1207\\n49. Eddie Johnson 1199\\n  Derek Harper 1199\\n51. Dikembe Mutombo* 1196\\n52. Alex English* 1193\\n53. Patrick Ewing* 1183\\n  Terry Cummings 1183\\n55. Richard Jefferson 1181\\n56. Scottie Pippen* 1178\\n57. James Edwards 1168\\n58. Horace Grant 1165\\n59. Shawn Marion 1163\\n60. Tyson Chandler 1160\\nRank Player G\\n61. Johnny Newman 1159\\n62. Tree Rollins 1156\\n63. Jerome Kersey 1153\\n64. Michael Cage 1140\\n65. Danny Schayes 1138\\n66. Detlef Schrempf 1136\\n67. Vlade Divac* 1134\\n68. Billy Paultz 1124\\n69. Hal Greer* 1122\\n70. Chris Paul 1121\\n71. Rick Mahorn 1117\\n72. Zach Randolph 1116\\n73. Kurt Thomas 1110\\n74. Rasheed Wallace 1109\\n75. Jack Sikma* 1107\\n  Robert Horry 1107\\n  Tom Chambers 1107\\n78. Michael Finley 1103\\n79. Herb Williams 1102\\n80. Maurice Cheeks* 1101\\nRank Player G\\n81. Dennis Johnson* 1100\\n82. Zaza Pachulia 1098\\n83. Trevor Ariza 1096\\n84. Rod Strickland 1094\\n  Dale Davis 1094\\n86. Lou Williams 1091\\n87. Mark West 1090\\n88. P.J. Brown 1089\\n89. Ben Wallace* 1088\\n90. Clyde Drexler* 1086\\n91. Dell Curry 1083\\n  Antawn Jamison 1083\\n93. Lenny Wilkens* 1077\\n  Jeff Hornacek 1077\\n95. Dominique Wilkins* 1074\\n96. Charles Barkley* 1073\\n  Byron Scott 1073\\n  Paul Millsap 1073\\n99. Michael Jordan* 1072\\n  Marvin Williams 1072\\nRank Player G\\n101. Bill Laimbeer 1068\\n102. Tyrone Corbin 1065\\n103. Boris Diaw 1064\\n104. George Gervin* 1060\\n105. Olden Polynice 1058\\n  Elton Brand 1058\\n107. Manu Ginóbili 1057\\n  Johnny Green 1057\\n109. Thaddeus Young 1055\\n110. Dwyane Wade 1054\\n  LaMarcus Aldridge 1054\\n  Avery Johnson 1054\\n113. Don Nelson* 1053\\n114. Shawn Kemp 1051\\n115. Rashard Lewis 1049\\n116. Leroy Ellis 1048\\n117. Wilt Chamberlain* 1045\\n118. Elden Campbell 1044\\n119. Walt Bellamy* 1043\\n  Chauncey Billups 1043\\nRank Player G\\n121. Danny Ainge 1042\\n122. Ron Boone 1041\\n123. Oscar Robertson* 1040\\n124. David West 1034\\n125. Walter Davis 1033\\n126. Mike Miller 1032\\n  Chet Walker* 1032\\n128. Gail Goodrich* 1031\\n129. Joe Smith 1030\\n130. Rudy Gay 1026\\n  Grant Hill* 1026\\n  Reggie Theus 1026\\n133. Maurice Lucas 1021\\n134. Rick Barry* 1020\\n135. Joe Dumars* 1018\\n136. Tayshaun Prince 1017\\n137. Antonio McDyess 1015\\n138. Jermaine O'Neal 1011\\n139. Ron Harper 1009\\n140. Jeff Green 1007\\nRank Player G\\n141. Nazr Mohammed 1005\\n142. Grant Long 1003\\n143. Sam Lacey 1002\\n  Calvin Murphy* 1002\\n145. Stacey Augmon 1001\\n  Mike Bibby 1001\\n147. Glen Rice 1000\\n148. Hedo Türkoğlu 997\\n149. Dolph Schayes* 996\\n150. Sam Mitchell 994\\n151. T.R. Dunn 993\\n  Sam Cassell 993\\n153. Metta World Peace 991\\n  Kyle Lowry 991\\n155. Alvan Adams 988\\n156. Erick Dampier 987\\n  Antoine Carr 987\\n  David Robinson* 987\\n159. Chris Mullin* 986\\n  Mike Dunleavy 986\\nRank Player G\\n161. Devin Harris 985\\n  LaSalle Thompson 985\\n163. Vinnie Johnson 984\\n  Wes Unseld* 984\\n  Wayne Cooper 984\\n166. Hersey Hawkins 983\\n167. Al Harrington 981\\n168. Rolando Blackman 980\\n169. Isiah Thomas* 979\\n170. J.R. Smith 977\\n  Shane Battier 977\\n172. Russell Westbrook 976\\n  Randy Smith 976\\n  Mitch Richmond* 976\\n175. Marcus Camby 973\\n176. Kevin McHale* 971\\n  Dick Barnett 971\\n  Raymond Felton 971\\n179. Jerry Stackhouse 970\\n180. Ricky Pierce 969\\nRank Player G\\n181. Don Buse 966\\n  Kendall Gill 966\\n183. Joe Kleine 965\\n  Nenê Hilário 965\\n185. Nate Thurmond* 964\\n  Dick Snyder 964\\n187. Bill Russell* 963\\n  Fred Brown 963\\n  Bill Cartwright 963\\n190. Brad Davis 961\\n  Lamar Odom 961\\n192. Louie Dampier* 960\\n193. Bob Lanier* 959\\n  DeAndre Jordan 959\\n195. Donyell Marshall 957\\n  James Donaldson 957\\n  Sleepy Floyd 957\\n198. Dan Majerle 955\\n  Adrian Dantley* 955\\n200. Eddie Jones 954\\nRank Player G\\n201. Alton Lister 953\\n202. Sedale Threatt 951\\n203. D.J. Augustin 950\\n  Bailey Howell* 950\\n205. David Wesley 949\\n206. Rickey Green 946\\n  Mark Olberding 946\\n208. Chuck Person 943\\n  Brian Shaw 943\\n210. Steve Smith 942\\n211. Bobby Jones* 941\\n212. J.J. Redick 940\\n213. Tracy McGrady* 938\\n  Mike Gminski 938\\n215. Lindsey Hunter 937\\n  Derrick McKey 937\\n217. Rajon Rondo 936\\n218. Mychal Thompson 935\\n219. Jerry West* 932\\n220. Rick Fox 930\\nRank Player G\\n  Dave Robisch 930\\n222. Tom Van Arsdale 929\\n  Armen Gilliam 929\\n  Matt Barnes 929\\n225. Thurl Bailey 928\\n  John Lucas 928\\n227. Earl Monroe* 926\\n  Bill Bridges 926\\n  James Worthy* 926\\n230. Bob Cousy* 924\\n231. Mark Aguirre 923\\n  Jalen Rose 923\\n233. Dick Van Arsdale 921\\n  Richard Hamilton 921\\n235. Larry Nance 920\\n236. Robert Reid 919\\n237. Robin Lopez 918\\n238. Danny Ferry 917\\n239. Tom Sanders* 916\\n240. Al Jefferson 915\\nRank Player G\\n  Clarence Weatherspoon 915\\n242. Allen Iverson* 914\\n  Bo Outlaw 914\\n  Mike Conley 914\\n245. Latrell Sprewell 913\\n246. Brent Barry 912\\n247. Kevin Durant 911\\n  Dennis Rodman* 911\\n249. Steve Kerr 910\\n  Nick Collison 910\""
      ]
     },
     "execution_count": 6,
     "metadata": {},
     "output_type": "execute_result"
    }
   ],
   "source": [
    "all_tbl = driver.find_element(By.ID, 'all_tot')\n",
    "\n",
    "all_tbl.text\n"
   ]
  },
  {
   "cell_type": "code",
   "execution_count": 13,
   "id": "6af03acb",
   "metadata": {},
   "outputs": [
    {
     "name": "stdout",
     "output_type": "stream",
     "text": [
      "1. Robert Parish* 1611\n",
      "2. Kareem Abdul-Jabbar* 1560\n",
      "3. Vince Carter 1541\n",
      "4. Dirk Nowitzki 1522\n",
      "5. John Stockton* 1504\n",
      "6. Karl Malone* 1476\n",
      "7. Kevin Garnett* 1462\n",
      "8. Moses Malone* 1455\n",
      "9. Kevin Willis 1424\n",
      "10. Jason Terry 1410\n"
     ]
    },
    {
     "data": {
      "text/plain": [
       "[{'rank': '1.',\n",
       "  'name': 'Robert Parish*',\n",
       "  'link': 'https://www.basketball-reference.com/players/p/parisro01.html',\n",
       "  'value': '1611'},\n",
       " {'rank': '2.',\n",
       "  'name': 'Kareem Abdul-Jabbar*',\n",
       "  'link': 'https://www.basketball-reference.com/players/a/abdulka01.html',\n",
       "  'value': '1560'},\n",
       " {'rank': '3.',\n",
       "  'name': 'Vince Carter',\n",
       "  'link': 'https://www.basketball-reference.com/players/c/cartevi01.html',\n",
       "  'value': '1541'},\n",
       " {'rank': '4.',\n",
       "  'name': 'Dirk Nowitzki',\n",
       "  'link': 'https://www.basketball-reference.com/players/n/nowitdi01.html',\n",
       "  'value': '1522'},\n",
       " {'rank': '5.',\n",
       "  'name': 'John Stockton*',\n",
       "  'link': 'https://www.basketball-reference.com/players/s/stockjo01.html',\n",
       "  'value': '1504'},\n",
       " {'rank': '6.',\n",
       "  'name': 'Karl Malone*',\n",
       "  'link': 'https://www.basketball-reference.com/players/m/malonka01.html',\n",
       "  'value': '1476'},\n",
       " {'rank': '7.',\n",
       "  'name': 'Kevin Garnett*',\n",
       "  'link': 'https://www.basketball-reference.com/players/g/garneke01.html',\n",
       "  'value': '1462'},\n",
       " {'rank': '8.',\n",
       "  'name': 'Moses Malone*',\n",
       "  'link': 'https://www.basketball-reference.com/players/m/malonmo01.html',\n",
       "  'value': '1455'},\n",
       " {'rank': '9.',\n",
       "  'name': 'Kevin Willis',\n",
       "  'link': 'https://www.basketball-reference.com/players/w/willike02.html',\n",
       "  'value': '1424'},\n",
       " {'rank': '10.',\n",
       "  'name': 'Jason Terry',\n",
       "  'link': 'https://www.basketball-reference.com/players/t/terryja01.html',\n",
       "  'value': '1410'}]"
      ]
     },
     "execution_count": 13,
     "metadata": {},
     "output_type": "execute_result"
    }
   ],
   "source": [
    "rows = all_tbl.find_element(By.TAG_NAME, 'tbody').find_elements(By.TAG_NAME, 'tr')\n",
    "\n",
    "top_10_list = []\n",
    "\n",
    "for row in rows[:10]:\n",
    "    print(row.text)\n",
    "    \n",
    "    top_10_entry = {}\n",
    "    \n",
    "    top_10_entry['rank'] = row.find_elements(By.TAG_NAME, 'td')[0].text\n",
    "    top_10_entry['name'] = row.find_elements(By.TAG_NAME, 'td')[1].text\n",
    "    top_10_entry['link'] = row.find_elements(By.TAG_NAME, 'td')[1].find_element(By.TAG_NAME, 'a').get_attribute('href')\n",
    "    top_10_entry['value'] = row.find_elements(By.TAG_NAME, 'td')[2].text\n",
    "    \n",
    "    top_10_list.append(top_10_entry)\n",
    "    \n",
    "top_10_list\n"
   ]
  },
  {
   "cell_type": "code",
   "execution_count": 16,
   "id": "fb8f2144",
   "metadata": {},
   "outputs": [
    {
     "data": {
      "text/plain": [
       "[{'rank': '1.',\n",
       "  'name': 'Robert Parish*',\n",
       "  'link': 'https://www.basketball-reference.com/players/p/parisro01.html',\n",
       "  'value': '1611'},\n",
       " {'rank': '2.',\n",
       "  'name': 'Kareem Abdul-Jabbar*',\n",
       "  'link': 'https://www.basketball-reference.com/players/a/abdulka01.html',\n",
       "  'value': '1560'},\n",
       " {'rank': '3.',\n",
       "  'name': 'Vince Carter',\n",
       "  'link': 'https://www.basketball-reference.com/players/c/cartevi01.html',\n",
       "  'value': '1541'},\n",
       " {'rank': '4.',\n",
       "  'name': 'Dirk Nowitzki',\n",
       "  'link': 'https://www.basketball-reference.com/players/n/nowitdi01.html',\n",
       "  'value': '1522'},\n",
       " {'rank': '5.',\n",
       "  'name': 'John Stockton*',\n",
       "  'link': 'https://www.basketball-reference.com/players/s/stockjo01.html',\n",
       "  'value': '1504'},\n",
       " {'rank': '6.',\n",
       "  'name': 'Karl Malone*',\n",
       "  'link': 'https://www.basketball-reference.com/players/m/malonka01.html',\n",
       "  'value': '1476'},\n",
       " {'rank': '7.',\n",
       "  'name': 'Kevin Garnett*',\n",
       "  'link': 'https://www.basketball-reference.com/players/g/garneke01.html',\n",
       "  'value': '1462'},\n",
       " {'rank': '8.',\n",
       "  'name': 'Moses Malone*',\n",
       "  'link': 'https://www.basketball-reference.com/players/m/malonmo01.html',\n",
       "  'value': '1455'},\n",
       " {'rank': '9.',\n",
       "  'name': 'Kevin Willis',\n",
       "  'link': 'https://www.basketball-reference.com/players/w/willike02.html',\n",
       "  'value': '1424'},\n",
       " {'rank': '10.',\n",
       "  'name': 'Jason Terry',\n",
       "  'link': 'https://www.basketball-reference.com/players/t/terryja01.html',\n",
       "  'value': '1410'}]"
      ]
     },
     "execution_count": 16,
     "metadata": {},
     "output_type": "execute_result"
    }
   ],
   "source": [
    "def get_top_n_list(url, n=10):\n",
    "    driver.get(url)\n",
    "    \n",
    "    all_tbl = driver.find_element(By.ID, 'all_tot')\n",
    "\n",
    "    rows = all_tbl.find_element(By.TAG_NAME, 'tbody').find_elements(By.TAG_NAME, 'tr')\n",
    "\n",
    "    top_n_list = []\n",
    "\n",
    "    for row in rows[:n]:\n",
    "\n",
    "        entry = {}\n",
    "\n",
    "        entry['rank'] = row.find_elements(By.TAG_NAME, 'td')[0].text\n",
    "        entry['name'] = row.find_elements(By.TAG_NAME, 'td')[1].text\n",
    "        entry['link'] = row.find_elements(By.TAG_NAME, 'td')[1].find_element(By.TAG_NAME, 'a').get_attribute('href')\n",
    "        entry['value'] = row.find_elements(By.TAG_NAME, 'td')[2].text\n",
    "\n",
    "        top_n_list.append(entry)\n",
    "\n",
    "    return top_n_list\n",
    "    \n",
    "t10_list = get_top_n_list('https://www.basketball-reference.com/leaders/g_career.html', 10)\n",
    "\n",
    "t10_list"
   ]
  },
  {
   "cell_type": "code",
   "execution_count": null,
   "id": "96fe937b",
   "metadata": {},
   "outputs": [],
   "source": []
  },
  {
   "cell_type": "code",
   "execution_count": null,
   "id": "09b8bdf4",
   "metadata": {},
   "outputs": [],
   "source": []
  }
 ],
 "metadata": {
  "kernelspec": {
   "display_name": "Python 3 (ipykernel)",
   "language": "python",
   "name": "python3"
  },
  "language_info": {
   "codemirror_mode": {
    "name": "ipython",
    "version": 3
   },
   "file_extension": ".py",
   "mimetype": "text/x-python",
   "name": "python",
   "nbconvert_exporter": "python",
   "pygments_lexer": "ipython3",
   "version": "3.8.12"
  }
 },
 "nbformat": 4,
 "nbformat_minor": 5
}
